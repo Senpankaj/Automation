{
 "cells": [
  {
   "cell_type": "code",
   "execution_count": 1,
   "id": "cbea2b88-2cf9-4624-80ba-ca7c4fbe5435",
   "metadata": {},
   "outputs": [],
   "source": [
    "import PyPDF2"
   ]
  },
  {
   "cell_type": "code",
   "execution_count": 10,
   "id": "56abe684-f8e2-42d0-949d-c11aa986acd7",
   "metadata": {},
   "outputs": [],
   "source": [
    "def read_pdf(file_path):\n",
    "    with open(file_path, 'rb') as file:\n",
    "        reader = PyPDF2.PdfReader(file)\n",
    "        text = \"\"\n",
    "        for page in reader.pages:\n",
    "            text += page.extract_text()\n",
    "    return text\n"
   ]
  },
  {
   "cell_type": "code",
   "execution_count": 12,
   "id": "6343b2e2-31e5-4e05-aa35-f563ec1e3edc",
   "metadata": {},
   "outputs": [],
   "source": [
    "pdf_text = read_pdf(r\"C:\\Users\\AdminT\\Desktop\\Sample.pdf\")"
   ]
  },
  {
   "cell_type": "code",
   "execution_count": 13,
   "id": "de76cc2e-8911-4001-9c90-8709f3d7742c",
   "metadata": {},
   "outputs": [
    {
     "name": "stdout",
     "output_type": "stream",
     "text": [
      "Name – Pankaj Sen \n",
      "Date – 17/05/2024  \n",
      "Address – 117, Vivek Nagar, Hiran Magri Sector 3 Udaipur  \n",
      " \n",
      "Document  \n",
      " \n",
      "Limit 1 - $4,0 0,000  \n",
      "Limit 2 - $3,00,000  \n",
      "Limit 3 - $7,00,000  \n",
      " \n",
      " \n",
      "Company – Safeco  \n",
      " \n",
      "Underwriting Company – Travelers  \n",
      " \n",
      " \n",
      " \n",
      " \n"
     ]
    }
   ],
   "source": [
    "print(pdf_text)"
   ]
  },
  {
   "cell_type": "code",
   "execution_count": 18,
   "id": "257d8106-31fd-47e2-944d-e2587147470d",
   "metadata": {},
   "outputs": [],
   "source": [
    "import os\n",
    "import string\n"
   ]
  },
  {
   "cell_type": "code",
   "execution_count": 19,
   "id": "0714b3ec-2da0-4f63-8c30-1f351a23ab15",
   "metadata": {},
   "outputs": [],
   "source": [
    "def rename_pdf(file_path):\n",
    "    text = read_pdf(file_path)\n",
    "    first_line = text.split('\\n')[0]\n",
    "    new_file_name = f\"{first_line}.pdf\"\n",
    "    \n",
    "    # Ensure the new file name is valid\n",
    "    valid_chars = \"-_.() %s%s\" % (string.ascii_letters, string.digits)\n",
    "    new_file_name = ''.join(c for c in new_file_name if c in valid_chars)\n",
    "\n",
    "    new_path = os.path.join(os.path.dirname(file_path), new_file_name)\n",
    "    os.rename(file_path, new_path)\n",
    "    print(f\"File renamed to: {new_file_name}\")"
   ]
  },
  {
   "cell_type": "code",
   "execution_count": 20,
   "id": "a1ee3040-25e4-4aa6-8d4f-2f30cc1e3375",
   "metadata": {},
   "outputs": [
    {
     "name": "stdout",
     "output_type": "stream",
     "text": [
      "File renamed to: Name  Pankaj Sen .pdf\n"
     ]
    }
   ],
   "source": [
    "rename_pdf('Sample.pdf')"
   ]
  },
  {
   "cell_type": "code",
   "execution_count": null,
   "id": "6a62a578-e609-49f8-8d14-d41dab0af411",
   "metadata": {},
   "outputs": [],
   "source": []
  }
 ],
 "metadata": {
  "kernelspec": {
   "display_name": "Python 3 (ipykernel)",
   "language": "python",
   "name": "python3"
  },
  "language_info": {
   "codemirror_mode": {
    "name": "ipython",
    "version": 3
   },
   "file_extension": ".py",
   "mimetype": "text/x-python",
   "name": "python",
   "nbconvert_exporter": "python",
   "pygments_lexer": "ipython3",
   "version": "3.11.7"
  }
 },
 "nbformat": 4,
 "nbformat_minor": 5
}
