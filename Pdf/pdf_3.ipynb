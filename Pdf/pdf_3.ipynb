{
 "cells": [
  {
   "cell_type": "code",
   "execution_count": 1,
   "id": "380c3abc-9d47-4cf6-8138-c9c5d65fbb32",
   "metadata": {},
   "outputs": [],
   "source": [
    "import PyPDF2\n",
    "import os\n",
    "import string\n",
    "import re"
   ]
  },
  {
   "cell_type": "code",
   "execution_count": 4,
   "id": "7e55f7b0-52f2-4e6c-9c05-62448e0ec099",
   "metadata": {},
   "outputs": [],
   "source": [
    "def read_pdf(file_path):\n",
    "    with open(file_path, 'rb') as file:\n",
    "        reader = PyPDF2.PdfReader(file)\n",
    "        text = \"\"\n",
    "        for page in reader.pages:\n",
    "            text += page.extract_text()\n",
    "    return text"
   ]
  },
  {
   "cell_type": "code",
   "execution_count": 6,
   "id": "95d00d23-14b2-4bd5-89f9-bd21b61199f2",
   "metadata": {},
   "outputs": [],
   "source": [
    "def extract_text(text):\n",
    "\n",
    "    name_pattern = r\"Name: (\\w+ \\w+)\"\n",
    "    date_pattern = r\"Date: (\\d{2}/\\d{2}\\/d{4})\"\n",
    "    limit_pattern = r\"Limit 1: (\\d+)\"\n",
    "\n",
    "    name_match = re.search(name_pattern, text)\n",
    "    date_match = re.search(date_pattern, text)\n",
    "    limit_match = re.search(limit_pattern, text)\n",
    "\n",
    "    name = name_match.group(1) if name_match else \"UnkownName\"\n",
    "    date = date_match.group(1) if date_match else\"UnkownDate\"\n",
    "    limit = limit_match_group(1) if limit_match else \"UnknowLimit\"\n",
    "\n",
    "    return name, date, limit"
   ]
  },
  {
   "cell_type": "code",
   "execution_count": 7,
   "id": "c38a08da-4ca1-461f-8c41-8a5b482a576c",
   "metadata": {},
   "outputs": [],
   "source": [
    "def sanitize_filename(filename):\n",
    "    valid_chars = \"-_.() %s%s\" % (string.ascii_letters, string.digits)\n",
    "    return ''.join(c for c in filename if c in valid_chars)"
   ]
  },
  {
   "cell_type": "code",
   "execution_count": 10,
   "id": "18b24d74-4aaf-45cd-8467-2d5bbb8e843e",
   "metadata": {},
   "outputs": [],
   "source": [
    "def rename_pdf(file_path):\n",
    "    text = read_pdf(file_path)\n",
    "    name, date, limit = extract_info(text)\n",
    "    name_file_name = f\"{name}_{date}_{limit}.pdf\"\n",
    "\n",
    "    new_file_name = sanitize_filename(new_file_name)\n",
    "\n",
    "    new_path = os.path.join (os.path.dirname(file_path), new_file_name)\n",
    "    os.rename(file_path, new_path)\n",
    "    print(f\"File renamed to: {new_file_name}\")\n",
    "\n"
   ]
  },
  {
   "cell_type": "code",
   "execution_count": 11,
   "id": "8efcd2d2-c6e7-4719-b674-3a4aa37fa10a",
   "metadata": {},
   "outputs": [
    {
     "ename": "NameError",
     "evalue": "name 'extract_info' is not defined",
     "output_type": "error",
     "traceback": [
      "\u001b[1;31m---------------------------------------------------------------------------\u001b[0m",
      "\u001b[1;31mNameError\u001b[0m                                 Traceback (most recent call last)",
      "Cell \u001b[1;32mIn[11], line 1\u001b[0m\n\u001b[1;32m----> 1\u001b[0m rename_pdf (\u001b[38;5;124m'\u001b[39m\u001b[38;5;124mSample.pdf\u001b[39m\u001b[38;5;124m'\u001b[39m)\n",
      "Cell \u001b[1;32mIn[10], line 3\u001b[0m, in \u001b[0;36mrename_pdf\u001b[1;34m(file_path)\u001b[0m\n\u001b[0;32m      1\u001b[0m \u001b[38;5;28;01mdef\u001b[39;00m \u001b[38;5;21mrename_pdf\u001b[39m(file_path):\n\u001b[0;32m      2\u001b[0m     text \u001b[38;5;241m=\u001b[39m read_pdf(file_path)\n\u001b[1;32m----> 3\u001b[0m     name, date, limit \u001b[38;5;241m=\u001b[39m extract_info(text)\n\u001b[0;32m      4\u001b[0m     name_file_name \u001b[38;5;241m=\u001b[39m \u001b[38;5;124mf\u001b[39m\u001b[38;5;124m\"\u001b[39m\u001b[38;5;132;01m{\u001b[39;00mname\u001b[38;5;132;01m}\u001b[39;00m\u001b[38;5;124m_\u001b[39m\u001b[38;5;132;01m{\u001b[39;00mdate\u001b[38;5;132;01m}\u001b[39;00m\u001b[38;5;124m_\u001b[39m\u001b[38;5;132;01m{\u001b[39;00mlimit\u001b[38;5;132;01m}\u001b[39;00m\u001b[38;5;124m.pdf\u001b[39m\u001b[38;5;124m\"\u001b[39m\n\u001b[0;32m      6\u001b[0m     new_file_name \u001b[38;5;241m=\u001b[39m sanitize_filename(new_file_name)\n",
      "\u001b[1;31mNameError\u001b[0m: name 'extract_info' is not defined"
     ]
    }
   ],
   "source": [
    "rename_pdf ('Sample.pdf')"
   ]
  },
  {
   "cell_type": "code",
   "execution_count": null,
   "id": "22cb1802-680e-490d-afd1-92cccdb5d96f",
   "metadata": {},
   "outputs": [],
   "source": []
  }
 ],
 "metadata": {
  "kernelspec": {
   "display_name": "Python 3 (ipykernel)",
   "language": "python",
   "name": "python3"
  },
  "language_info": {
   "codemirror_mode": {
    "name": "ipython",
    "version": 3
   },
   "file_extension": ".py",
   "mimetype": "text/x-python",
   "name": "python",
   "nbconvert_exporter": "python",
   "pygments_lexer": "ipython3",
   "version": "3.11.7"
  }
 },
 "nbformat": 4,
 "nbformat_minor": 5
}
