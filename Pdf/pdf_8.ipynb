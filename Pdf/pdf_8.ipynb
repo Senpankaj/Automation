{
 "cells": [
  {
   "cell_type": "code",
   "execution_count": 1,
   "id": "18d3c0d5-b2fc-4c3b-92ef-621b89196345",
   "metadata": {},
   "outputs": [],
   "source": [
    "import PyPDF2\n",
    "import os\n",
    "import string\n",
    "import re"
   ]
  },
  {
   "cell_type": "code",
   "execution_count": 2,
   "id": "26688ba5-650f-463a-a2c2-614a441f672f",
   "metadata": {},
   "outputs": [],
   "source": [
    "def read_pdf(file_path):\n",
    "    with open(file_path, 'rb') as file:\n",
    "        reader = PyPDF2.PdfReader(file)\n",
    "        text = \"\"\n",
    "        for page in reader.pages:\n",
    "            text += page.extract_text()\n",
    "    return text"
   ]
  },
  {
   "cell_type": "code",
   "execution_count": 3,
   "id": "c2379545-da32-479b-9807-2554e00881d4",
   "metadata": {},
   "outputs": [],
   "source": [
    "def extract_info(text):\n",
    "    # Adjust the regex based on the actual text format in your PDF\n",
    "    name_pattern = r\"Name – ([A-Za-z ]+)\"  # Match name after \"Name – \"\n",
    "    date_pattern = r\"Date – (\\d{2}/\\d{2}/\\d{4})\"  # Match date after \"Date – \"\n",
    "    limit_pattern = r\"Limit 1 - \\$([\\d,]+)\"  # Match limit after \"Limit 1 - $\"\n",
    "\n",
    "    name_match = re.search(name_pattern, text)\n",
    "    date_match = re.search(date_pattern, text)\n",
    "    limit_match = re.search(limit_pattern, text)\n",
    "\n",
    "    name = name_match.group(1).strip() if name_match else \"UnknownName\"\n",
    "    date = date_match.group(1).strip() if date_match else \"UnknownDate\"\n",
    "    limit = limit_match.group(1).strip() if limit_match else \"UnknownLimit\"\n",
    "\n",
    "    # Convert date from dd/mm/yyyy to MM/DD/YYYY\n",
    "    if date != \"UnknownDate\":\n",
    "        day, month, year = date.split('/')\n",
    "        date = f\"{month}/{day}/{year}\"\n",
    "\n",
    "    return name, date, limit"
   ]
  },
  {
   "cell_type": "code",
   "execution_count": 6,
   "id": "7d805c14-883e-4638-b0ac-4676fb2a9253",
   "metadata": {},
   "outputs": [],
   "source": [
    "def sanitize_filename(filename):\n",
    "    valid_chars = \"-_.() /%s%s\" % (string.ascii_letters, string.digits)\n",
    "    return ''.join(c for c in filename if c in valid_chars)\n",
    "\n",
    "def rename_pdf(file_path):\n",
    "    text = read_pdf(file_path)\n",
    "    name, date, limit = extract_info(text)\n",
    "    new_file_name = f\"{name}_{date}_{limit}.pdf\"\n",
    "    \n",
    "    new_file_name = sanitize_filename(new_file_name)\n",
    "\n",
    "    new_path = os.path.join(os.path.dirname(file_path), new_file_name)\n",
    "    os.rename(file_path, new_path)\n",
    "    print(f\"File renamed to: {new_file_name}\")\n",
    "    return new_file_name"
   ]
  },
  {
   "cell_type": "code",
   "execution_count": 7,
   "id": "f4de8b32-26b5-4560-a81d-82d45bdbaae7",
   "metadata": {},
   "outputs": [
    {
     "ename": "FileNotFoundError",
     "evalue": "[WinError 3] The system cannot find the path specified: 'Sample.pdf' -> 'Pankaj Sen_05/17/2024_40.pdf'",
     "output_type": "error",
     "traceback": [
      "\u001b[1;31m---------------------------------------------------------------------------\u001b[0m",
      "\u001b[1;31mFileNotFoundError\u001b[0m                         Traceback (most recent call last)",
      "Cell \u001b[1;32mIn[7], line 2\u001b[0m\n\u001b[0;32m      1\u001b[0m uploaded_file_path \u001b[38;5;241m=\u001b[39m \u001b[38;5;124m'\u001b[39m\u001b[38;5;124mSample.pdf\u001b[39m\u001b[38;5;124m'\u001b[39m  \u001b[38;5;66;03m# Change this to match the file name you uploaded\u001b[39;00m\n\u001b[1;32m----> 2\u001b[0m renamed_file \u001b[38;5;241m=\u001b[39m rename_pdf(uploaded_file_path)\n",
      "Cell \u001b[1;32mIn[6], line 13\u001b[0m, in \u001b[0;36mrename_pdf\u001b[1;34m(file_path)\u001b[0m\n\u001b[0;32m     10\u001b[0m new_file_name \u001b[38;5;241m=\u001b[39m sanitize_filename(new_file_name)\n\u001b[0;32m     12\u001b[0m new_path \u001b[38;5;241m=\u001b[39m os\u001b[38;5;241m.\u001b[39mpath\u001b[38;5;241m.\u001b[39mjoin(os\u001b[38;5;241m.\u001b[39mpath\u001b[38;5;241m.\u001b[39mdirname(file_path), new_file_name)\n\u001b[1;32m---> 13\u001b[0m os\u001b[38;5;241m.\u001b[39mrename(file_path, new_path)\n\u001b[0;32m     14\u001b[0m \u001b[38;5;28mprint\u001b[39m(\u001b[38;5;124mf\u001b[39m\u001b[38;5;124m\"\u001b[39m\u001b[38;5;124mFile renamed to: \u001b[39m\u001b[38;5;132;01m{\u001b[39;00mnew_file_name\u001b[38;5;132;01m}\u001b[39;00m\u001b[38;5;124m\"\u001b[39m)\n\u001b[0;32m     15\u001b[0m \u001b[38;5;28;01mreturn\u001b[39;00m new_file_name\n",
      "\u001b[1;31mFileNotFoundError\u001b[0m: [WinError 3] The system cannot find the path specified: 'Sample.pdf' -> 'Pankaj Sen_05/17/2024_40.pdf'"
     ]
    }
   ],
   "source": [
    "uploaded_file_path = 'Sample.pdf'  # Change this to match the file name you uploaded\n",
    "renamed_file = rename_pdf(uploaded_file_path)"
   ]
  },
  {
   "cell_type": "code",
   "execution_count": null,
   "id": "4ad37300-74d2-44bd-accd-f03e860724ce",
   "metadata": {},
   "outputs": [],
   "source": []
  }
 ],
 "metadata": {
  "kernelspec": {
   "display_name": "Python 3 (ipykernel)",
   "language": "python",
   "name": "python3"
  },
  "language_info": {
   "codemirror_mode": {
    "name": "ipython",
    "version": 3
   },
   "file_extension": ".py",
   "mimetype": "text/x-python",
   "name": "python",
   "nbconvert_exporter": "python",
   "pygments_lexer": "ipython3",
   "version": "3.11.7"
  }
 },
 "nbformat": 4,
 "nbformat_minor": 5
}
