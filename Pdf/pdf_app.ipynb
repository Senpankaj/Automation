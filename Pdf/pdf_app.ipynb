{
 "cells": [
  {
   "cell_type": "code",
   "execution_count": 1,
   "id": "c542426f-ce70-4616-a480-dda80c5c8e3d",
   "metadata": {},
   "outputs": [],
   "source": [
    "from flask import Flask, render_template, request\n",
    "import PyPDF2\n",
    "import os\n",
    "import string\n",
    "import re"
   ]
  },
  {
   "cell_type": "code",
   "execution_count": 2,
   "id": "68afa65a-87d8-4d98-84df-076acde2ce62",
   "metadata": {},
   "outputs": [],
   "source": [
    "app = Flask(__name__)"
   ]
  },
  {
   "cell_type": "code",
   "execution_count": 3,
   "id": "705d7c41-c742-435c-b8cb-6c86d65eea64",
   "metadata": {},
   "outputs": [],
   "source": [
    "# Functions for file processing\n",
    "def read_pdf(file):\n",
    "    text = \"\"\n",
    "    reader = PyPDF2.PdfFileReader(file)\n",
    "    for page in range(reader.numPages):\n",
    "        text += reader.getPage(page).extractText()\n",
    "    return text"
   ]
  },
  {
   "cell_type": "code",
   "execution_count": 4,
   "id": "ecc718ed-72de-4ed3-aaee-05790cde1007",
   "metadata": {},
   "outputs": [],
   "source": [
    "def extract_info(text):\n",
    "    name_match = re.search(r\"Name\\s*-\\s*([A-Za-z ]+)\", text)\n",
    "    date_match = re.search(r\"Date\\s*-\\s*(\\d{2}/\\d{2}/\\d{4})\", text)\n",
    "    limit_match = re.search(r\"Limit 1\\s*-\\s*\\$([\\d,]+)\", text)\n",
    "    \n",
    "    name = name_match.group(1).strip() if name_match else \"UnknownName\"\n",
    "    date = date_match.group(1).strip() if date_match else \"UnknownDate\"\n",
    "    limit = limit_match.group(1).strip() if limit_match else \"UnknownLimit\"\n",
    "\n",
    "    # Convert date from dd/mm/yyyy to MM/DD/YYYY\n",
    "    if date != \"UnknownDate\":\n",
    "        day, month, year = date.split('/')\n",
    "        date = f\"{month}/{day}/{year}\"\n",
    "\n",
    "    return name, date, limit"
   ]
  },
  {
   "cell_type": "code",
   "execution_count": 5,
   "id": "a9faaa6b-27d8-43c2-aa0d-fa966ae9454c",
   "metadata": {},
   "outputs": [],
   "source": [
    "def sanitize_filename(filename):\n",
    "    valid_chars = \"-_.() /%s%s\" % (string.ascii_letters, string.digits)\n",
    "    return ''.join(c for c in filename if c in valid_chars)\n",
    "\n",
    "# Route for the home page\n",
    "@app.route('/', methods=['GET', 'POST'])\n",
    "def upload_file():\n",
    "    if request.method == 'POST':\n",
    "        file = request.files['file']\n",
    "        \n",
    "        if file.filename == '':\n",
    "            return render_template('index.html', message='No selected file')\n",
    "        \n",
    "        if file:\n",
    "            text = read_pdf(file)\n",
    "            name, date, limit = extract_info(text)\n",
    "            new_file_name = f\"{name}_{date}_{limit}.pdf\"\n",
    "            new_file_name = sanitize_filename(new_file_name)\n",
    "            new_path = os.path.join('uploads', new_file_name)\n",
    "            file.save(new_path)\n",
    "            return render_template('index.html', message=f'File uploaded and renamed to: {new_file_name}')\n",
    "    \n",
    "    return render_template('index.html')"
   ]
  },
  {
   "cell_type": "code",
   "execution_count": 6,
   "id": "c9bb1db8-572c-42ee-81bb-5b9dde7ab2ea",
   "metadata": {},
   "outputs": [
    {
     "name": "stdout",
     "output_type": "stream",
     "text": [
      " * Serving Flask app '__main__'\n",
      " * Debug mode: on\n"
     ]
    },
    {
     "name": "stderr",
     "output_type": "stream",
     "text": [
      "WARNING: This is a development server. Do not use it in a production deployment. Use a production WSGI server instead.\n",
      " * Running on http://127.0.0.1:5000\n",
      "Press CTRL+C to quit\n",
      " * Restarting with watchdog (windowsapi)\n"
     ]
    },
    {
     "ename": "SystemExit",
     "evalue": "1",
     "output_type": "error",
     "traceback": [
      "An exception has occurred, use %tb to see the full traceback.\n",
      "\u001b[1;31mSystemExit\u001b[0m\u001b[1;31m:\u001b[0m 1\n"
     ]
    },
    {
     "name": "stderr",
     "output_type": "stream",
     "text": [
      "C:\\ProgramData\\anaconda3\\Lib\\site-packages\\IPython\\core\\interactiveshell.py:3561: UserWarning: To exit: use 'exit', 'quit', or Ctrl-D.\n",
      "  warn(\"To exit: use 'exit', 'quit', or Ctrl-D.\", stacklevel=1)\n"
     ]
    }
   ],
   "source": [
    "\n",
    "if __name__ == '__main__':\n",
    "    app.run(debug=True)"
   ]
  },
  {
   "cell_type": "code",
   "execution_count": 7,
   "id": "4f9ef306-9053-4248-994c-fbcdfcc874ff",
   "metadata": {},
   "outputs": [],
   "source": [
    "quit"
   ]
  },
  {
   "cell_type": "code",
   "execution_count": null,
   "id": "3ccfdd1a-f934-4d9e-b55e-dfbf71a6971a",
   "metadata": {},
   "outputs": [],
   "source": []
  }
 ],
 "metadata": {
  "kernelspec": {
   "display_name": "Python 3 (ipykernel)",
   "language": "python",
   "name": "python3"
  },
  "language_info": {
   "codemirror_mode": {
    "name": "ipython",
    "version": 3
   },
   "file_extension": ".py",
   "mimetype": "text/x-python",
   "name": "python",
   "nbconvert_exporter": "python",
   "pygments_lexer": "ipython3",
   "version": "3.11.7"
  }
 },
 "nbformat": 4,
 "nbformat_minor": 5
}
