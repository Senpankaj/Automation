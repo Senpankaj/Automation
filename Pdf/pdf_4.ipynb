{
 "cells": [
  {
   "cell_type": "code",
   "execution_count": 1,
   "id": "4f4ceeab-3a1e-4485-b723-c07f9178335f",
   "metadata": {},
   "outputs": [],
   "source": [
    "import PyPDF2\n",
    "import os\n",
    "import string\n",
    "import re"
   ]
  },
  {
   "cell_type": "code",
   "execution_count": 2,
   "id": "6046c3bc-04bd-475e-bd3a-822d8bb56fd5",
   "metadata": {},
   "outputs": [],
   "source": [
    "def read_pdf(file_path):\n",
    "    with open(file_path, 'rb') as file:\n",
    "        reader = PyPDF2.PdfReader(file)\n",
    "        text = \"\"\n",
    "        for page in reader.pages:\n",
    "            text += page.extract_text()\n",
    "    return text"
   ]
  },
  {
   "cell_type": "code",
   "execution_count": 3,
   "id": "c1f9defa-ab89-4667-bec6-884e526e3b09",
   "metadata": {},
   "outputs": [],
   "source": [
    "def extract_info(text):\n",
    "    # Adjust the regex based on the actual text format in your PDF\n",
    "    name_pattern = r\"Name: (\\w+ \\w+)\"  # Example pattern\n",
    "    date_pattern = r\"Date: (\\d{2}/\\d{2}/\\d{4})\"  # Example pattern\n",
    "    limit_pattern = r\"Limit 1: (\\d+)\"  # Example pattern\n",
    "\n",
    "    name_match = re.search(name_pattern, text)\n",
    "    date_match = re.search(date_pattern, text)\n",
    "    limit_match = re.search(limit_pattern, text)\n",
    "\n",
    "    name = name_match.group(1) if name_match else \"UnknownName\"\n",
    "    date = date_match.group(1) if date_match else \"UnknownDate\"\n",
    "    limit = limit_match.group(1) if limit_match else \"UnknownLimit\"\n",
    "\n",
    "    return name, date, limit\n"
   ]
  },
  {
   "cell_type": "code",
   "execution_count": 4,
   "id": "027c8620-aef6-44dd-8c4e-7182c6daca1a",
   "metadata": {},
   "outputs": [],
   "source": [
    "def sanitize_filename(filename):\n",
    "    valid_chars = \"-_.() %s%s\" % (string.ascii_letters, string.digits)\n",
    "    return ''.join(c for c in filename if c in valid_chars)"
   ]
  },
  {
   "cell_type": "code",
   "execution_count": 5,
   "id": "28f0fad9-74b0-4065-8349-4b38dda666b1",
   "metadata": {},
   "outputs": [],
   "source": [
    "def rename_pdf(file_path):\n",
    "    text = read_pdf(file_path)\n",
    "    name, date, limit = extract_info(text)\n",
    "    new_file_name = f\"{name}_{date}_{limit}.pdf\"\n",
    "    \n",
    "    new_file_name = sanitize_filename(new_file_name)\n",
    "\n",
    "    new_path = os.path.join(os.path.dirname(file_path), new_file_name)\n",
    "    os.rename(file_path, new_path)\n",
    "    print(f\"File renamed to: {new_file_name}\")"
   ]
  },
  {
   "cell_type": "code",
   "execution_count": 6,
   "id": "559777e7-8295-48f7-9a5d-3b0d6db06b9b",
   "metadata": {},
   "outputs": [
    {
     "name": "stdout",
     "output_type": "stream",
     "text": [
      "File renamed to: UnknownName_UnknownDate_UnknownLimit.pdf\n"
     ]
    }
   ],
   "source": [
    "rename_pdf('Sample.pdf')"
   ]
  },
  {
   "cell_type": "code",
   "execution_count": null,
   "id": "b69835cc-f252-4597-a981-7395e04a7642",
   "metadata": {},
   "outputs": [],
   "source": []
  }
 ],
 "metadata": {
  "kernelspec": {
   "display_name": "Python 3 (ipykernel)",
   "language": "python",
   "name": "python3"
  },
  "language_info": {
   "codemirror_mode": {
    "name": "ipython",
    "version": 3
   },
   "file_extension": ".py",
   "mimetype": "text/x-python",
   "name": "python",
   "nbconvert_exporter": "python",
   "pygments_lexer": "ipython3",
   "version": "3.11.7"
  }
 },
 "nbformat": 4,
 "nbformat_minor": 5
}
