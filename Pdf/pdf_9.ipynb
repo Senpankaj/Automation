{
 "cells": [
  {
   "cell_type": "code",
   "execution_count": null,
   "id": "4d4d7be5-38bb-4886-8971-14d159851104",
   "metadata": {},
   "outputs": [],
   "source": [
    "from tkinter import Tk, filedialog\n",
    "import PyPDF2\n",
    "import os\n",
    "import string\n",
    "import re\n",
    "\n",
    "def read_pdf(file_path):\n",
    "    with open(file_path, 'rb') as file:\n",
    "        reader = PyPDF2.PdfReader(file)\n",
    "        text = \"\"\n",
    "        for page in reader.pages:\n",
    "            text += page.extract_text()\n",
    "    return text\n",
    "\n",
    "def extract_info(text):\n",
    "    # Adjust the regex based on the actual text format in your PDF\n",
    "    name_pattern = r\"Name – ([A-Za-z ]+)\"  # Match name after \"Name – \"\n",
    "    date_pattern = r\"Date – (\\d{2}/\\d{2}/\\d{4})\"  # Match date after \"Date – \"\n",
    "    limit_pattern = r\"Limit 1 - \\$([\\d,]+)\"  # Match limit after \"Limit 1 - $\"\n",
    "\n",
    "    name_match = re.search(name_pattern, text)\n",
    "    date_match = re.search(date_pattern, text)\n",
    "    limit_match = re.search(limit_pattern, text)\n",
    "\n",
    "    name = name_match.group(1).strip() if name_match else \"UnknownName\"\n",
    "    date = date_match.group(1).strip() if date_match else \"UnknownDate\"\n",
    "    limit = limit_match.group(1).strip() if limit_match else \"UnknownLimit\"\n",
    "\n",
    "    # Convert date from dd/mm/yyyy to MM/DD/YYYY\n",
    "    if date != \"UnknownDate\":\n",
    "        day, month, year = date.split('/')\n",
    "        date = f\"{month}/{day}/{year}\"\n",
    "\n",
    "    return name, date, limit\n",
    "\n",
    "def sanitize_filename(filename):\n",
    "    valid_chars = \"-_.() /%s%s\" % (string.ascii_letters, string.digits)\n",
    "    return ''.join(c for c in filename if c in valid_chars)\n",
    "\n",
    "def rename_pdf():\n",
    "    # Open a file dialog to choose the PDF file\n",
    "    root = Tk()\n",
    "    root.withdraw()  # Hide the Tkinter window\n",
    "    file_path = filedialog.askopenfilename(title=\"Select PDF file\", filetypes=[(\"PDF files\", \"*.pdf\")])\n",
    "    if not file_path:  # User cancelled the dialog\n",
    "        return\n",
    "    root.destroy()  # Close the Tkinter window\n",
    "    \n",
    "    text = read_pdf(file_path)\n",
    "    name, date, limit = extract_info(text)\n",
    "    new_file_name = f\"{name}_{date}_{limit}.pdf\"\n",
    "    \n",
    "    new_file_name = sanitize_filename(new_file_name)\n",
    "\n",
    "    new_path = os.path.join(os.path.dirname(file_path), new_file_name)\n",
    "    os.rename(file_path, new_path)\n",
    "    print(f\"File renamed to: {new_file_name}\")\n",
    "\n",
    "# Test the function\n",
    "rename_pdf()\n"
   ]
  },
  {
   "cell_type": "code",
   "execution_count": null,
   "id": "70b4b8d0-7baf-4017-9969-247bfd5baad4",
   "metadata": {},
   "outputs": [],
   "source": [
    "print('hello')"
   ]
  },
  {
   "cell_type": "code",
   "execution_count": null,
   "id": "f1c4fdab-ff44-4929-ac4c-598dbe95623a",
   "metadata": {},
   "outputs": [],
   "source": []
  }
 ],
 "metadata": {
  "kernelspec": {
   "display_name": "Python 3 (ipykernel)",
   "language": "python",
   "name": "python3"
  },
  "language_info": {
   "codemirror_mode": {
    "name": "ipython",
    "version": 3
   },
   "file_extension": ".py",
   "mimetype": "text/x-python",
   "name": "python",
   "nbconvert_exporter": "python",
   "pygments_lexer": "ipython3",
   "version": "3.11.7"
  }
 },
 "nbformat": 4,
 "nbformat_minor": 5
}
