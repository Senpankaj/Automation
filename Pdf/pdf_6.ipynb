{
 "cells": [
  {
   "cell_type": "code",
   "execution_count": 1,
   "id": "03e27f14-d205-4231-9a6f-bac31103365d",
   "metadata": {},
   "outputs": [],
   "source": [
    "import PyPDF2\n",
    "import os\n",
    "import string\n",
    "import re"
   ]
  },
  {
   "cell_type": "code",
   "execution_count": 2,
   "id": "525f7436-4c9c-444b-9c77-f637f44cbf90",
   "metadata": {},
   "outputs": [],
   "source": [
    "def read_pdf(file_path):\n",
    "    with open(file_path, 'rb') as file:\n",
    "        reader = PyPDF2.PdfReader(file)\n",
    "        text = \"\"\n",
    "        for page in reader.pages:\n",
    "            text += page.extract_text()\n",
    "    return text\n"
   ]
  },
  {
   "cell_type": "code",
   "execution_count": 3,
   "id": "1e870a6b-074c-4d93-810a-e17ba3161166",
   "metadata": {},
   "outputs": [],
   "source": [
    "def extract_info(text):\n",
    "    # Adjust the regex based on the actual text format in your PDF\n",
    "    name_pattern = r\"Name – ([A-Za-z ]+)\"  # Match name after \"Name – \"\n",
    "    date_pattern = r\"Date – (\\d{2}/\\d{2}/\\d{4})\"  # Match date after \"Date – \"\n",
    "    limit_pattern = r\"Limit 1 - \\$([\\d,]+)\"  # Match limit after \"Limit 1 - $\"\n",
    "\n",
    "    name_match = re.search(name_pattern, text)\n",
    "    date_match = re.search(date_pattern, text)\n",
    "    limit_match = re.search(limit_pattern, text)\n",
    "\n",
    "    name = name_match.group(1).strip() if name_match else \"UnknownName\"\n",
    "    date = date_match.group(1).strip() if date_match else \"UnknownDate\"\n",
    "    limit = limit_match.group(1).strip() if limit_match else \"UnknownLimit\"\n",
    "\n",
    "    return name, date, limit"
   ]
  },
  {
   "cell_type": "code",
   "execution_count": 4,
   "id": "bd4f3380-132a-4ade-bbca-7e41f985a436",
   "metadata": {},
   "outputs": [],
   "source": [
    "def sanitize_filename(filename):\n",
    "    valid_chars = \"-_.() %s%s\" % (string.ascii_letters, string.digits)\n",
    "    return ''.join(c for c in filename if c in valid_chars)"
   ]
  },
  {
   "cell_type": "code",
   "execution_count": 5,
   "id": "80c0e60a-64ae-47b3-9797-51b803f2554b",
   "metadata": {},
   "outputs": [],
   "source": [
    "def rename_pdf(file_path):\n",
    "    text = read_pdf(file_path)\n",
    "    name, date, limit = extract_info(text)\n",
    "    new_file_name = f\"{name}_{date}_{limit}.pdf\"\n",
    "    \n",
    "    new_file_name = sanitize_filename(new_file_name)\n",
    "\n",
    "    new_path = os.path.join(os.path.dirname(file_path), new_file_name)\n",
    "    os.rename(file_path, new_path)\n",
    "    print(f\"File renamed to: {new_file_name}\")"
   ]
  },
  {
   "cell_type": "code",
   "execution_count": 6,
   "id": "5feb0313-e1e9-452e-85a1-740124de2fd4",
   "metadata": {},
   "outputs": [
    {
     "name": "stdout",
     "output_type": "stream",
     "text": [
      "File renamed to: Pankaj Sen_17052024_40.pdf\n"
     ]
    }
   ],
   "source": [
    "# Test the function\n",
    "rename_pdf('Sample.pdf')"
   ]
  },
  {
   "cell_type": "code",
   "execution_count": null,
   "id": "a8defd22-05dd-4f93-8d70-ac66ca567328",
   "metadata": {},
   "outputs": [],
   "source": []
  }
 ],
 "metadata": {
  "kernelspec": {
   "display_name": "Python 3 (ipykernel)",
   "language": "python",
   "name": "python3"
  },
  "language_info": {
   "codemirror_mode": {
    "name": "ipython",
    "version": 3
   },
   "file_extension": ".py",
   "mimetype": "text/x-python",
   "name": "python",
   "nbconvert_exporter": "python",
   "pygments_lexer": "ipython3",
   "version": "3.11.7"
  }
 },
 "nbformat": 4,
 "nbformat_minor": 5
}
