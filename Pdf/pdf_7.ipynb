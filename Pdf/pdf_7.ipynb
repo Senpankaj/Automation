{
 "cells": [
  {
   "cell_type": "code",
   "execution_count": 12,
   "id": "76d5c5ec-80c4-40f4-bbd6-9325fe412994",
   "metadata": {},
   "outputs": [],
   "source": [
    "import PyPDF2\n",
    "import os\n",
    "import string\n",
    "import re"
   ]
  },
  {
   "cell_type": "code",
   "execution_count": 13,
   "id": "b71e76d5-ab8a-4f81-bf64-b6f397a60d30",
   "metadata": {},
   "outputs": [],
   "source": [
    "def read_pdf(file_path):\n",
    "    with open(file_path, 'rb') as file:\n",
    "        reader = PyPDF2.PdfReader(file)\n",
    "        text = \"\"\n",
    "        for page in reader.pages:\n",
    "            text += page.extract_text()\n",
    "    return text"
   ]
  },
  {
   "cell_type": "code",
   "execution_count": 14,
   "id": "e23d85bb-3f40-46dd-aec0-a20aecb72656",
   "metadata": {},
   "outputs": [],
   "source": [
    "def extract_info(text):\n",
    "    # Adjust the regex based on the actual text format in your PDF\n",
    "    name_pattern = r\"Name – ([A-Za-z ]+)\"  # Match name after \"Name – \"\n",
    "    date_pattern = r\"Date – (\\d{2}/\\d{2}/\\d{4})\"  # Match date after \"Date – \"\n",
    "    limit_pattern = r\"Limit 1 - \\$([\\d,]+)\"  # Match limit after \"Limit 1 - $\"\n",
    "\n",
    "    name_match = re.search(name_pattern, text)\n",
    "    date_match = re.search(date_pattern, text)\n",
    "    limit_match = re.search(limit_pattern, text)\n",
    "\n",
    "    name = name_match.group(1).strip() if name_match else \"UnknownName\"\n",
    "    date = date_match.group(1).strip() if date_match else \"UnknownDate\"\n",
    "    limit = limit_match.group(1).strip() if limit_match else \"UnknownLimit\"\n",
    "\n",
    "    # Convert date from dd/mm/yyyy to MM/DD/YYYY\n",
    "    if date != \"UnknownDate\":\n",
    "        day, month, year = date.split('/')\n",
    "        date = f\"{month}/{day}/{year}\"\n",
    "\n",
    "    return name, date, limit"
   ]
  },
  {
   "cell_type": "code",
   "execution_count": 19,
   "id": "5bcf01e2-0b71-4898-9419-f8097ed22f1b",
   "metadata": {},
   "outputs": [],
   "source": [
    "def sanitize_filename(filename):\n",
    "    valid_chars = \"-_.() /%s%s\" % (string.ascii_letters, string.digits)\n",
    "    return ''.join(c for c in filename if c in valid_chars)"
   ]
  },
  {
   "cell_type": "code",
   "execution_count": 20,
   "id": "c6803d04-8f08-42a3-8854-08e58fbd6ae3",
   "metadata": {},
   "outputs": [],
   "source": [
    "def rename_pdf(file_path):\n",
    "    text = read_pdf(file_path)\n",
    "    name, date, limit = extract_info(text)\n",
    "    new_file_name = f\"{name}_{date}_{limit}.pdf\"\n",
    "    \n",
    "    new_file_name = sanitize_filename(new_file_name)\n",
    "\n",
    "    new_path = os.path.join(os.path.dirname(file_path), new_file_name)\n",
    "    os.rename(file_path, new_path)\n",
    "    print(f\"File renamed to: {new_file_name}\")"
   ]
  },
  {
   "cell_type": "code",
   "execution_count": 26,
   "id": "35e6ec46-9bcd-43a1-955c-ad2f90292a05",
   "metadata": {},
   "outputs": [
    {
     "ename": "FileNotFoundError",
     "evalue": "[Errno 2] No such file or directory: 'Downloads\\\\Pdf\\\\Sample.pdf'",
     "output_type": "error",
     "traceback": [
      "\u001b[1;31m---------------------------------------------------------------------------\u001b[0m",
      "\u001b[1;31mFileNotFoundError\u001b[0m                         Traceback (most recent call last)",
      "Cell \u001b[1;32mIn[26], line 2\u001b[0m\n\u001b[0;32m      1\u001b[0m \u001b[38;5;66;03m# Test the function\u001b[39;00m\n\u001b[1;32m----> 2\u001b[0m rename_pdf(\u001b[38;5;124mr\u001b[39m\u001b[38;5;124m'\u001b[39m\u001b[38;5;124mDownloads\u001b[39m\u001b[38;5;124m\\\u001b[39m\u001b[38;5;124mPdf\u001b[39m\u001b[38;5;124m\\\u001b[39m\u001b[38;5;124mSample.pdf\u001b[39m\u001b[38;5;124m'\u001b[39m)\n",
      "Cell \u001b[1;32mIn[20], line 2\u001b[0m, in \u001b[0;36mrename_pdf\u001b[1;34m(file_path)\u001b[0m\n\u001b[0;32m      1\u001b[0m \u001b[38;5;28;01mdef\u001b[39;00m \u001b[38;5;21mrename_pdf\u001b[39m(file_path):\n\u001b[1;32m----> 2\u001b[0m     text \u001b[38;5;241m=\u001b[39m read_pdf(file_path)\n\u001b[0;32m      3\u001b[0m     name, date, limit \u001b[38;5;241m=\u001b[39m extract_info(text)\n\u001b[0;32m      4\u001b[0m     new_file_name \u001b[38;5;241m=\u001b[39m \u001b[38;5;124mf\u001b[39m\u001b[38;5;124m\"\u001b[39m\u001b[38;5;132;01m{\u001b[39;00mname\u001b[38;5;132;01m}\u001b[39;00m\u001b[38;5;124m_\u001b[39m\u001b[38;5;132;01m{\u001b[39;00mdate\u001b[38;5;132;01m}\u001b[39;00m\u001b[38;5;124m_\u001b[39m\u001b[38;5;132;01m{\u001b[39;00mlimit\u001b[38;5;132;01m}\u001b[39;00m\u001b[38;5;124m.pdf\u001b[39m\u001b[38;5;124m\"\u001b[39m\n",
      "Cell \u001b[1;32mIn[13], line 2\u001b[0m, in \u001b[0;36mread_pdf\u001b[1;34m(file_path)\u001b[0m\n\u001b[0;32m      1\u001b[0m \u001b[38;5;28;01mdef\u001b[39;00m \u001b[38;5;21mread_pdf\u001b[39m(file_path):\n\u001b[1;32m----> 2\u001b[0m     \u001b[38;5;28;01mwith\u001b[39;00m \u001b[38;5;28mopen\u001b[39m(file_path, \u001b[38;5;124m'\u001b[39m\u001b[38;5;124mrb\u001b[39m\u001b[38;5;124m'\u001b[39m) \u001b[38;5;28;01mas\u001b[39;00m file:\n\u001b[0;32m      3\u001b[0m         reader \u001b[38;5;241m=\u001b[39m PyPDF2\u001b[38;5;241m.\u001b[39mPdfReader(file)\n\u001b[0;32m      4\u001b[0m         text \u001b[38;5;241m=\u001b[39m \u001b[38;5;124m\"\u001b[39m\u001b[38;5;124m\"\u001b[39m\n",
      "File \u001b[1;32mC:\\ProgramData\\anaconda3\\Lib\\site-packages\\IPython\\core\\interactiveshell.py:310\u001b[0m, in \u001b[0;36m_modified_open\u001b[1;34m(file, *args, **kwargs)\u001b[0m\n\u001b[0;32m    303\u001b[0m \u001b[38;5;28;01mif\u001b[39;00m file \u001b[38;5;129;01min\u001b[39;00m {\u001b[38;5;241m0\u001b[39m, \u001b[38;5;241m1\u001b[39m, \u001b[38;5;241m2\u001b[39m}:\n\u001b[0;32m    304\u001b[0m     \u001b[38;5;28;01mraise\u001b[39;00m \u001b[38;5;167;01mValueError\u001b[39;00m(\n\u001b[0;32m    305\u001b[0m         \u001b[38;5;124mf\u001b[39m\u001b[38;5;124m\"\u001b[39m\u001b[38;5;124mIPython won\u001b[39m\u001b[38;5;124m'\u001b[39m\u001b[38;5;124mt let you open fd=\u001b[39m\u001b[38;5;132;01m{\u001b[39;00mfile\u001b[38;5;132;01m}\u001b[39;00m\u001b[38;5;124m by default \u001b[39m\u001b[38;5;124m\"\u001b[39m\n\u001b[0;32m    306\u001b[0m         \u001b[38;5;124m\"\u001b[39m\u001b[38;5;124mas it is likely to crash IPython. If you know what you are doing, \u001b[39m\u001b[38;5;124m\"\u001b[39m\n\u001b[0;32m    307\u001b[0m         \u001b[38;5;124m\"\u001b[39m\u001b[38;5;124myou can use builtins\u001b[39m\u001b[38;5;124m'\u001b[39m\u001b[38;5;124m open.\u001b[39m\u001b[38;5;124m\"\u001b[39m\n\u001b[0;32m    308\u001b[0m     )\n\u001b[1;32m--> 310\u001b[0m \u001b[38;5;28;01mreturn\u001b[39;00m io_open(file, \u001b[38;5;241m*\u001b[39margs, \u001b[38;5;241m*\u001b[39m\u001b[38;5;241m*\u001b[39mkwargs)\n",
      "\u001b[1;31mFileNotFoundError\u001b[0m: [Errno 2] No such file or directory: 'Downloads\\\\Pdf\\\\Sample.pdf'"
     ]
    }
   ],
   "source": [
    "# Test the function\n",
    "rename_pdf(r'C:\\Users\\AdminTDownloads\\Pdf\\Sample.pdf')\n"
   ]
  },
  {
   "cell_type": "code",
   "execution_count": null,
   "id": "761f2aff-d28f-4a47-b7e5-24d876e86fb6",
   "metadata": {},
   "outputs": [],
   "source": []
  }
 ],
 "metadata": {
  "kernelspec": {
   "display_name": "Python 3 (ipykernel)",
   "language": "python",
   "name": "python3"
  },
  "language_info": {
   "codemirror_mode": {
    "name": "ipython",
    "version": 3
   },
   "file_extension": ".py",
   "mimetype": "text/x-python",
   "name": "python",
   "nbconvert_exporter": "python",
   "pygments_lexer": "ipython3",
   "version": "3.11.7"
  }
 },
 "nbformat": 4,
 "nbformat_minor": 5
}
