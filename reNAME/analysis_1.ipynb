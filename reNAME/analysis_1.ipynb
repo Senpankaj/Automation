{
 "cells": [
  {
   "cell_type": "code",
   "execution_count": 1,
   "id": "ad2b67b9-15e3-486b-b722-a4d71acc1b55",
   "metadata": {},
   "outputs": [],
   "source": [
    "import cv2\n",
    "import pytesseract"
   ]
  },
  {
   "cell_type": "code",
   "execution_count": 2,
   "id": "2fd772db-038e-44d6-913d-571dc621bc9d",
   "metadata": {},
   "outputs": [],
   "source": [
    "# Set the path to the Tesseract executable\n",
    "pytesseract.pytesseract.tesseract_cmd = 'C:\\\\Program Files\\\\Tesseract-OCR\\\\tesseract.exe'"
   ]
  },
  {
   "cell_type": "code",
   "execution_count": 8,
   "id": "8d3e8412-36ac-4114-93ae-989897d5b871",
   "metadata": {},
   "outputs": [],
   "source": [
    "# Read the image\n",
    "img = cv2.imread('1.png')"
   ]
  },
  {
   "cell_type": "code",
   "execution_count": 9,
   "id": "c72611a9-6aef-4018-9ed6-e973e24e012c",
   "metadata": {},
   "outputs": [],
   "source": [
    "# Convert the image from BGR to RGB\n",
    "img = cv2.cvtColor(img, cv2.COLOR_BGR2RGB)"
   ]
  },
  {
   "cell_type": "code",
   "execution_count": 10,
   "id": "f556b7b2-655a-46f6-9681-7fba6a8c2b63",
   "metadata": {},
   "outputs": [],
   "source": [
    "# Use pytesseract to do OCR on the image and save the result to a variable\n",
    "text = pytesseract.image_to_string(img)\n"
   ]
  },
  {
   "cell_type": "code",
   "execution_count": 11,
   "id": "72c020e8-60a6-4ffe-b66d-f804a7072480",
   "metadata": {},
   "outputs": [
    {
     "name": "stdout",
     "output_type": "stream",
     "text": [
      "Name ~ Pankaj Sen\n",
      "\n",
      "Date - 17/05/2024\n",
      "\n",
      "‘Address ~ 117, Vivek Nagar, Hiran Magri Sector 3 Udaipur\n",
      "\n",
      "Document\n",
      "\n",
      "Limit 1 - $4,00,000\n",
      "\n",
      "Limit 2 - $3,00,000\n",
      "\n",
      "Limit 3 - $7,00,000\n",
      "\n",
      "Company ~ Safeco\n",
      "\n",
      "Underwriting Company ~ Travelers\n",
      "\n"
     ]
    }
   ],
   "source": [
    "# Print the extracted text\n",
    "print(text)"
   ]
  },
  {
   "cell_type": "code",
   "execution_count": 12,
   "id": "a7747b55-2183-4afb-9aef-776d809f8545",
   "metadata": {},
   "outputs": [],
   "source": [
    "from transformers import pipeline"
   ]
  },
  {
   "cell_type": "code",
   "execution_count": 15,
   "id": "2431579e-beea-4a03-939e-ffd7f3c0994b",
   "metadata": {},
   "outputs": [],
   "source": [
    "import tensorflow.compat.v1 as tf\n",
    "tf.disable_v2_behavior()"
   ]
  },
  {
   "cell_type": "code",
   "execution_count": 17,
   "id": "0dd57361-5e18-4fce-8f05-4948b0c59e78",
   "metadata": {},
   "outputs": [
    {
     "name": "stdout",
     "output_type": "stream",
     "text": [
      "2.16.1\n",
      "3.3.3\n"
     ]
    }
   ],
   "source": [
    "import tensorflow as tf\n",
    "import keras\n",
    "print(tf.__version__)\n",
    "print(keras.__version__)"
   ]
  },
  {
   "cell_type": "code",
   "execution_count": 18,
   "id": "61396621-c166-4c60-970e-7cbc5b6fd044",
   "metadata": {},
   "outputs": [],
   "source": [
    "import os\n",
    "os.environ['TF_ENABLE_ONEDNN_OPTS'] = '0'"
   ]
  },
  {
   "cell_type": "code",
   "execution_count": null,
   "id": "cfbc4b9e-1f25-4449-b927-427722356f9a",
   "metadata": {},
   "outputs": [],
   "source": []
  }
 ],
 "metadata": {
  "kernelspec": {
   "display_name": "Python 3 (ipykernel)",
   "language": "python",
   "name": "python3"
  },
  "language_info": {
   "codemirror_mode": {
    "name": "ipython",
    "version": 3
   },
   "file_extension": ".py",
   "mimetype": "text/x-python",
   "name": "python",
   "nbconvert_exporter": "python",
   "pygments_lexer": "ipython3",
   "version": "3.11.7"
  }
 },
 "nbformat": 4,
 "nbformat_minor": 5
}
