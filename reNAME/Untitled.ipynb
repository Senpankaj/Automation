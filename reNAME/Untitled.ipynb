{
 "cells": [
  {
   "cell_type": "code",
   "execution_count": 1,
   "id": "9386a5ca-9080-4cfb-bde3-ec01a5e2e600",
   "metadata": {},
   "outputs": [],
   "source": [
    "import cv2\n",
    "import pytesseract"
   ]
  },
  {
   "cell_type": "code",
   "execution_count": 2,
   "id": "2b1497a4-f013-4bbd-b00f-16c20d2e8320",
   "metadata": {},
   "outputs": [],
   "source": [
    "# Set the path to the Tesseract executable\n",
    "pytesseract.pytesseract.tesseract_cmd = 'C:\\\\Program Files\\\\Tesseract-OCR\\\\tesseract.exe'"
   ]
  },
  {
   "cell_type": "code",
   "execution_count": 3,
   "id": "4a3be69b-bb93-4eee-b728-281edc804dab",
   "metadata": {},
   "outputs": [],
   "source": [
    "# Read the image\n",
    "img = cv2.imread('4.png')"
   ]
  },
  {
   "cell_type": "code",
   "execution_count": 4,
   "id": "bc4591cb-2bd3-471a-bdf8-d9590eae5bee",
   "metadata": {},
   "outputs": [],
   "source": [
    "# Convert the image from BGR to RGB\n",
    "img = cv2.cvtColor(img, cv2.COLOR_BGR2RGB)"
   ]
  },
  {
   "cell_type": "code",
   "execution_count": 5,
   "id": "94344554-4a3f-41fe-99e0-3337e247008b",
   "metadata": {},
   "outputs": [],
   "source": [
    "# Use pytesseract to do OCR on the image and save the result to a variable\n",
    "text = pytesseract.image_to_string(img)\n"
   ]
  },
  {
   "cell_type": "code",
   "execution_count": 6,
   "id": "f9aa2336-6025-4c5b-8d68-756eca25a539",
   "metadata": {},
   "outputs": [
    {
     "name": "stdout",
     "output_type": "stream",
     "text": [
      "Step 2. Paste the copied table into Word\n",
      "\n",
      "Products Jansales Febsales Marsales Apr sales\n",
      "\n",
      "Productl 3780 9726 7133 3229\n",
      "Product2 9732 8326 2600 2186\n",
      "Product3 3909 8437 4631 4172\n",
      "Product4 4807 6404 3165 4892\n",
      "ProductS 6183 5608 7475 9439\n",
      "Product6 8761 3832 8155 7295\n",
      "Product? 8295 9304 4607 5328\n",
      "Product8 2657 5258 7759 6763\n",
      "\n",
      "Product9 9153 2299 4007 9895\n",
      "\n"
     ]
    }
   ],
   "source": [
    "# Print the extracted text\n",
    "print(text)"
   ]
  },
  {
   "cell_type": "code",
   "execution_count": null,
   "id": "88219be9-5746-4e36-ab2f-f251b218dfd1",
   "metadata": {},
   "outputs": [],
   "source": [
    "print('hello')"
   ]
  },
  {
   "cell_type": "code",
   "execution_count": null,
   "id": "69b78c5f-8d9c-4f11-8f53-31ea6581bf50",
   "metadata": {},
   "outputs": [],
   "source": []
  },
  {
   "cell_type": "code",
   "execution_count": null,
   "id": "8daa913b-408c-4326-ad24-fc9551332561",
   "metadata": {},
   "outputs": [],
   "source": []
  }
 ],
 "metadata": {
  "kernelspec": {
   "display_name": "Python 3 (ipykernel)",
   "language": "python",
   "name": "python3"
  },
  "language_info": {
   "codemirror_mode": {
    "name": "ipython",
    "version": 3
   },
   "file_extension": ".py",
   "mimetype": "text/x-python",
   "name": "python",
   "nbconvert_exporter": "python",
   "pygments_lexer": "ipython3",
   "version": "3.11.7"
  }
 },
 "nbformat": 4,
 "nbformat_minor": 5
}
