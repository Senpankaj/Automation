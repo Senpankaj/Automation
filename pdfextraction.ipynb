{
 "cells": [
  {
   "cell_type": "code",
   "execution_count": 1,
   "id": "ad2b67b9-15e3-486b-b722-a4d71acc1b55",
   "metadata": {},
   "outputs": [],
   "source": [
    "import cv2\n",
    "import pytesseract"
   ]
  },
  {
   "cell_type": "code",
   "execution_count": 2,
   "id": "2fd772db-038e-44d6-913d-571dc621bc9d",
   "metadata": {},
   "outputs": [],
   "source": [
    "# Set the path to the Tesseract executable\n",
    "pytesseract.pytesseract.tesseract_cmd = 'C:\\\\Program Files\\\\Tesseract-OCR\\\\tesseract.exe'"
   ]
  },
  {
   "cell_type": "code",
   "execution_count": 3,
   "id": "8d3e8412-36ac-4114-93ae-989897d5b871",
   "metadata": {},
   "outputs": [],
   "source": [
    "# Read the image\n",
    "img = cv2.imread('1.png')"
   ]
  },
  {
   "cell_type": "code",
   "execution_count": 5,
   "id": "c72611a9-6aef-4018-9ed6-e973e24e012c",
   "metadata": {},
   "outputs": [],
   "source": [
    "# Convert the image from BGR to RGB\n",
    "img = cv2.cvtColor(img, cv2.COLOR_BGR2RGB)"
   ]
  },
  {
   "cell_type": "code",
   "execution_count": 6,
   "id": "f556b7b2-655a-46f6-9681-7fba6a8c2b63",
   "metadata": {},
   "outputs": [],
   "source": [
    "# Use pytesseract to do OCR on the image and save the result to a variable\n",
    "text = pytesseract.image_to_string(img)\n"
   ]
  },
  {
   "cell_type": "code",
   "execution_count": 7,
   "id": "72c020e8-60a6-4ffe-b66d-f804a7072480",
   "metadata": {},
   "outputs": [
    {
     "name": "stdout",
     "output_type": "stream",
     "text": [
      "Name — Pankaj Sen\n",
      "\n",
      "Date - 17/05/2024\n",
      "\n",
      "Address - 117, Vivek Nagar, Hiran Magri Sector 3 Udaipur\n",
      "\n",
      "Document\n",
      "\n",
      "Limit 1 - $4,00,000\n",
      "\n",
      "Limit 2 - $3,00,000\n",
      "\n",
      "Limit 3 - $7,00,000\n",
      "\n",
      "Company ~ Safeco\n",
      "\n",
      "Underwriting Company - Travelers\n",
      "\n"
     ]
    }
   ],
   "source": [
    "# Print the extracted text\n",
    "print(text)"
   ]
  }
 ],
 "metadata": {
  "kernelspec": {
   "display_name": "Python 3 (ipykernel)",
   "language": "python",
   "name": "python3"
  },
  "language_info": {
   "codemirror_mode": {
    "name": "ipython",
    "version": 3
   },
   "file_extension": ".py",
   "mimetype": "text/x-python",
   "name": "python",
   "nbconvert_exporter": "python",
   "pygments_lexer": "ipython3",
   "version": "3.11.7"
  }
 },
 "nbformat": 4,
 "nbformat_minor": 5
}
